{
  "cells": [
    {
      "cell_type": "markdown",
      "metadata": {
        "id": "view-in-github",
        "colab_type": "text"
      },
      "source": [
        "<a href=\"https://colab.research.google.com/github/Eddycrack864/Ultimate-Vocal-Remover-5.6-for-Google-Colab/blob/main/Ultimate_Vocal_Remover_5_6_for_Google_Colab.ipynb\" target=\"_parent\"><img src=\"https://colab.research.google.com/assets/colab-badge.svg\" alt=\"Open In Colab\"/></a>"
      ]
    },
    {
      "cell_type": "markdown",
      "source": [
        "# 🎵 Ultimate Vocal Remover 5.6 for Google Colab 🎵\n",
        "\n",
        "## Colab created by [Not Eddy (Spanish Mod)](http://discord.com/users/274566299349155851) in [AI HUB](https://discord.gg/aihub) server.\n",
        "## You can also use this into a Hugging Face Space [here](https://huggingface.co/spaces/Eddycrack864/UVR5). If you liked the space and colab you can give it a 💖 and star my repo on [GitHub](https://github.com/Eddycrack864/UVR5-5.6-for-Colab).\n",
        "\n",
        "### Thanks to: [Hina](https://github.com/hinabl), [r3gm](https://github.com/R3gm) and [Anjok07](https://github.com/Anjok07)"
      ],
      "metadata": {
        "id": "_1osUVi0IxoR"
      }
    },
    {
      "cell_type": "code",
      "execution_count": null,
      "metadata": {
        "cellView": "form",
        "id": "Fu26OSlq9dsA"
      },
      "outputs": [],
      "source": [
        "#@title # **Install**\n",
        "#@markdown This takes around 10 minutes\n",
        "from IPython.display import clear_output\n",
        "!git clone https://github.com/Eddycrack864/Ultimate-Vocal-Remover-5.6-for-Google-Colab.git\n",
        "%cd UVR5-5.6-for-Colab\n",
        "!pip install -r requirements.txt\n",
        "!pip install -U torch torchaudio --no-cache-dir\n",
        "!python -m pip install ort-nightly-gpu --index-url=https://aiinfra.pkgs.visualstudio.com/PublicPackages/_packaging/ort-cuda-12-nightly/pypi/simple/ #Hina code\n",
        "!sudo apt install aria2\n",
        "clear_output()\n",
        "print(\"Installation Completed!!!\")"
      ]
    },
    {
      "cell_type": "code",
      "execution_count": null,
      "metadata": {
        "cellView": "form",
        "id": "TXNqGZcWJmW-"
      },
      "outputs": [],
      "source": [
        "#@title # **WebUI**\n",
        "#@markdown If you want to use the UVR5 VIP models, check the box below\n",
        "vip_models=False #@param {type:\"boolean\"}\n",
        "if vip_models:\n",
        "    print(\"Downloading VIP models...\")\n",
        "    !python vip_models.py\n",
        "    clear_output()\n",
        "    print(\"Complete VIP model download!!!\")\n",
        "\n",
        "!python webUI.py"
      ]
    }
  ],
  "metadata": {
    "accelerator": "GPU",
    "colab": {
      "provenance": [],
      "authorship_tag": "ABX9TyNPwZn1VeVOf9HL4xwsG87u",
      "include_colab_link": true
    },
    "kernelspec": {
      "display_name": "Python 3",
      "name": "python3"
    },
    "language_info": {
      "name": "python"
    }
  },
  "nbformat": 4,
  "nbformat_minor": 0
}